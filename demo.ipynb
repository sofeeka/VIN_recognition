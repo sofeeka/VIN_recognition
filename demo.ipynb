{
 "nbformat": 4,
 "nbformat_minor": 0,
 "metadata": {
  "colab": {
   "provenance": [],
   "authorship_tag": "ABX9TyNqitfvjJCMO0j6c+RE22Ej"
  },
  "kernelspec": {
   "name": "python3",
   "language": "python",
   "display_name": "Python 3 (ipykernel)"
  },
  "language_info": {
   "name": "python"
  }
 },
 "cells": [
  {
   "cell_type": "code",
   "execution_count": null,
   "metadata": {
    "id": "eQjZPEL1roLo",
    "executionInfo": {
     "status": "ok",
     "timestamp": 1731802939551,
     "user_tz": -60,
     "elapsed": 14102,
     "user": {
      "displayName": "Sofiia Hrychukh",
      "userId": "08242309766764710449"
     }
    }
   },
   "outputs": [],
   "source": [
    "import os\n",
    "import cv2\n",
    "import numpy as np\n",
    "import pandas as pd\n",
    "import tensorflow as tf\n",
    "import matplotlib.pyplot as plt"
   ]
  },
  {
   "cell_type": "markdown",
   "source": [
    "Download the **EMNIST** (Extended MNIST) dataset from kaggle"
   ],
   "metadata": {
    "id": "r0Y8CcJVtIPR"
   }
  },
  {
   "cell_type": "code",
   "source": [
    "import kagglehub\n",
    "\n",
    "path = kagglehub.dataset_download(\"crawford/emnist\")"
   ],
   "metadata": {
    "colab": {
     "base_uri": "https://localhost:8080/"
    },
    "id": "2TrD6ZPgsWox",
    "executionInfo": {
     "status": "ok",
     "timestamp": 1731803032171,
     "user_tz": -60,
     "elapsed": 92624,
     "user": {
      "displayName": "Sofiia Hrychukh",
      "userId": "08242309766764710449"
     }
    },
    "outputId": "5e914028-f898-4fe2-97ba-b4c8c25dd945"
   },
   "execution_count": null,
   "outputs": []
  },
  {
   "cell_type": "markdown",
   "source": [
    "After reading the documentation of EMNIST datasets on kaggle I have decided to use the EMNIST balanced dataset out of the options below. It has the same number of examples of each class. In this way the model will not be biased by some letters that are more oftenly used. If the task was to recognise actual text with real words, I think a little bias would be more or less acceptable, but when talking about VIN, i feel like the probability of getting every letter / digit is equal, so I think this is the correct choice"
   ],
   "metadata": {
    "id": "Enj-_H2dxnsw"
   }
  },
  {
   "cell_type": "code",
   "source": [
    "os.listdir(path)"
   ],
   "metadata": {
    "colab": {
     "base_uri": "https://localhost:8080/"
    },
    "id": "J4UL-mf7w5at",
    "executionInfo": {
     "status": "ok",
     "timestamp": 1731773494683,
     "user_tz": -60,
     "elapsed": 7,
     "user": {
      "displayName": "Sofiia Hrychukh",
      "userId": "08242309766764710449"
     }
    },
    "outputId": "190c867a-bfba-40dd-970a-455194183f40"
   },
   "execution_count": null,
   "outputs": []
  },
  {
   "cell_type": "markdown",
   "source": [
    "Load the dataset into the the dataframe"
   ],
   "metadata": {
    "id": "izRRmHz61J4E"
   }
  },
  {
   "cell_type": "code",
   "source": [
    "train_data_file_path = os.path.join(path, 'emnist-balanced-train.csv')\n",
    "train_data = pd.read_csv(train_data_file_path, header=None)\n",
    "\n",
    "train_data.head()"
   ],
   "metadata": {
    "colab": {
     "base_uri": "https://localhost:8080/",
     "height": 235
    },
    "id": "JWDflKHTzBNm",
    "executionInfo": {
     "status": "ok",
     "timestamp": 1731809378094,
     "user_tz": -60,
     "elapsed": 12975,
     "user": {
      "displayName": "Sofiia Hrychukh",
      "userId": "08242309766764710449"
     }
    },
    "outputId": "495b7ed9-401f-4091-93a1-93fd8ba7a317"
   },
   "execution_count": null,
   "outputs": []
  },
  {
   "cell_type": "code",
   "source": [
    "test_data_file_path = os.path.join(path, 'emnist-balanced-test.csv')\n",
    "test_data = pd.read_csv(test_data_file_path, header=None)\n",
    "\n",
    "test_data.head()"
   ],
   "metadata": {
    "colab": {
     "base_uri": "https://localhost:8080/",
     "height": 235
    },
    "id": "BTVVnf_Y4zoN",
    "executionInfo": {
     "status": "ok",
     "timestamp": 1731809379640,
     "user_tz": -60,
     "elapsed": 1549,
     "user": {
      "displayName": "Sofiia Hrychukh",
      "userId": "08242309766764710449"
     }
    },
    "outputId": "d3c17509-959f-49ec-be80-f14365fea32a"
   },
   "execution_count": null,
   "outputs": []
  },
  {
   "cell_type": "markdown",
   "source": [
    "These datasets currently contain digits, upper case letters and some lower case letters that are different from the upper case ones. After doing a bit of research about VIN I realised that it consists only of digits and upper case letters, so I will filter out lower case ones"
   ],
   "metadata": {
    "id": "opFnVKcmpom8"
   }
  },
  {
   "cell_type": "code",
   "source": [
    "class_mapping = '0123456789ABCDEFGHIJKLMNOPQRSTUVWXYZabdefghnqrt'\n",
    "chars_to_remove = 'abdefghnqrtIOQ'\n",
    "updated_class_mapping = ''.join([c for c in class_mapping if c not in chars_to_remove])"
   ],
   "metadata": {
    "id": "k8SOfFG9Hlcd",
    "executionInfo": {
     "status": "ok",
     "timestamp": 1731809379640,
     "user_tz": -60,
     "elapsed": 4,
     "user": {
      "displayName": "Sofiia Hrychukh",
      "userId": "08242309766764710449"
     }
    }
   },
   "execution_count": null,
   "outputs": []
  },
  {
   "cell_type": "code",
   "source": [
    "def remove_rows_by_label(df, input_string):\n",
    "    print(f'unique count before: {len(df[0].unique())}')\n",
    "    print(f'chars to remove: {input_string}')\n",
    "\n",
    "    old_to_new_mapping = {class_mapping.index(c): updated_class_mapping.index(c) if c in updated_class_mapping else -1 for c in class_mapping}\n",
    "    print(old_to_new_mapping)\n",
    "    df.iloc[:, 0] = df.iloc[:, 0].map(old_to_new_mapping)\n",
    "\n",
    "    df = df[df.iloc[:, 0] != -1].reset_index(drop=True)\n",
    "\n",
    "    print(f'unique count after: {len(df[0].unique())}')\n",
    "    print(f'max label after: {max(df[0])}')\n",
    "\n",
    "    return df"
   ],
   "metadata": {
    "id": "AFSJC4g-Hn0t",
    "executionInfo": {
     "status": "ok",
     "timestamp": 1731809379640,
     "user_tz": -60,
     "elapsed": 4,
     "user": {
      "displayName": "Sofiia Hrychukh",
      "userId": "08242309766764710449"
     }
    }
   },
   "execution_count": null,
   "outputs": []
  },
  {
   "cell_type": "code",
   "source": [
    "train_data = remove_rows_by_label(train_data, chars_to_remove)"
   ],
   "metadata": {
    "colab": {
     "base_uri": "https://localhost:8080/"
    },
    "id": "kWdVyA9m6ij3",
    "executionInfo": {
     "status": "ok",
     "timestamp": 1731809380794,
     "user_tz": -60,
     "elapsed": 1158,
     "user": {
      "displayName": "Sofiia Hrychukh",
      "userId": "08242309766764710449"
     }
    },
    "outputId": "f4356911-7a02-45de-bb3e-f4e4fa487501"
   },
   "execution_count": null,
   "outputs": []
  },
  {
   "cell_type": "code",
   "source": [
    "test_data = remove_rows_by_label(test_data, chars_to_remove)"
   ],
   "metadata": {
    "colab": {
     "base_uri": "https://localhost:8080/"
    },
    "id": "KacUsCdRNL56",
    "executionInfo": {
     "status": "ok",
     "timestamp": 1731809380794,
     "user_tz": -60,
     "elapsed": 5,
     "user": {
      "displayName": "Sofiia Hrychukh",
      "userId": "08242309766764710449"
     }
    },
    "outputId": "a4bdc13e-be8c-40a2-c077-7279cf1b0523"
   },
   "execution_count": null,
   "outputs": []
  },
  {
   "cell_type": "markdown",
   "source": [
    "The desired input imagesfor classification are in squares, lets augment the training and testing data with a padding"
   ],
   "metadata": {
    "id": "AETE3B-JdCiM"
   }
  },
  {
   "cell_type": "code",
   "source": [
    "def show_row(df, row_num, side):\n",
    "    img = df.values[row_num, 1:].reshape([side, side])\n",
    "    data_class = df.values[row_num, 0]\n",
    "    label = updated_class_mapping[data_class]\n",
    "\n",
    "    plt.figure(figsize=(3,3))\n",
    "    plt.imshow(img, cmap='Greys_r')\n",
    "    plt.title(f'Class: {data_class} ({label})')\n",
    "    plt.axis('off')\n",
    "    plt.show()"
   ],
   "metadata": {
    "id": "QVTm3NfPeYQv",
    "executionInfo": {
     "status": "ok",
     "timestamp": 1731809383394,
     "user_tz": -60,
     "elapsed": 240,
     "user": {
      "displayName": "Sofiia Hrychukh",
      "userId": "08242309766764710449"
     }
    }
   },
   "execution_count": null,
   "outputs": []
  },
  {
   "cell_type": "code",
   "source": [
    "def pad_and_transpose_data(df):\n",
    "    padded_images = []\n",
    "\n",
    "    for index, row in df.iterrows():\n",
    "        label = row[0]\n",
    "        flattened_image = row[1:].values\n",
    "\n",
    "        image_28x28 = flattened_image.reshape(28, 28)\n",
    "        image_30x30 = np.pad(image_28x28, pad_width=1, mode='constant', constant_values=255)\n",
    "        image_30x30 = np.transpose(image_30x30, axes=[1,0])\n",
    "        flattened_padded_image = image_30x30.flatten()\n",
    "\n",
    "        padded_image_with_label = np.insert(flattened_padded_image, 0, label)\n",
    "        padded_images.append(padded_image_with_label)\n",
    "\n",
    "    padded_df = pd.DataFrame(padded_images)\n",
    "    return padded_df"
   ],
   "metadata": {
    "id": "516SajrndCH0",
    "executionInfo": {
     "status": "ok",
     "timestamp": 1731809385884,
     "user_tz": -60,
     "elapsed": 318,
     "user": {
      "displayName": "Sofiia Hrychukh",
      "userId": "08242309766764710449"
     }
    }
   },
   "execution_count": null,
   "outputs": []
  },
  {
   "cell_type": "code",
   "source": [
    "show_row(train_data, 0, 28)"
   ],
   "metadata": {
    "colab": {
     "base_uri": "https://localhost:8080/",
     "height": 290
    },
    "id": "yzFK-M9Afypl",
    "executionInfo": {
     "status": "ok",
     "timestamp": 1731809388295,
     "user_tz": -60,
     "elapsed": 381,
     "user": {
      "displayName": "Sofiia Hrychukh",
      "userId": "08242309766764710449"
     }
    },
    "outputId": "3c94e972-2743-4daf-abff-93ec8ad00851"
   },
   "execution_count": null,
   "outputs": []
  },
  {
   "cell_type": "code",
   "source": [
    "padded_train_data = pad_and_transpose_data(train_data)"
   ],
   "metadata": {
    "id": "sZ_cMty5f8hv",
    "executionInfo": {
     "status": "ok",
     "timestamp": 1731809616844,
     "user_tz": -60,
     "elapsed": 223982,
     "user": {
      "displayName": "Sofiia Hrychukh",
      "userId": "08242309766764710449"
     }
    }
   },
   "execution_count": null,
   "outputs": []
  },
  {
   "cell_type": "code",
   "source": [
    "show_row(padded_train_data, 0, 30)"
   ],
   "metadata": {
    "colab": {
     "base_uri": "https://localhost:8080/",
     "height": 290
    },
    "id": "3CCPpgIUgAi8",
    "executionInfo": {
     "status": "ok",
     "timestamp": 1731809616844,
     "user_tz": -60,
     "elapsed": 5,
     "user": {
      "displayName": "Sofiia Hrychukh",
      "userId": "08242309766764710449"
     }
    },
    "outputId": "f18a1c2a-9013-4f1a-a32c-6d3d9d5b8344"
   },
   "execution_count": null,
   "outputs": []
  },
  {
   "cell_type": "code",
   "source": [
    "padded_test_data = pad_and_transpose_data(test_data)"
   ],
   "metadata": {
    "id": "otYKTJPlxph0",
    "executionInfo": {
     "status": "ok",
     "timestamp": 1731809885478,
     "user_tz": -60,
     "elapsed": 36479,
     "user": {
      "displayName": "Sofiia Hrychukh",
      "userId": "08242309766764710449"
     }
    }
   },
   "execution_count": null,
   "outputs": []
  },
  {
   "cell_type": "code",
   "source": [
    "train_data = padded_train_data\n",
    "test_data = padded_test_data"
   ],
   "metadata": {
    "id": "a3XdF5azx0vo",
    "executionInfo": {
     "status": "ok",
     "timestamp": 1731812412704,
     "user_tz": -60,
     "elapsed": 277,
     "user": {
      "displayName": "Sofiia Hrychukh",
      "userId": "08242309766764710449"
     }
    }
   },
   "execution_count": null,
   "outputs": []
  },
  {
   "cell_type": "code",
   "source": [
    "train_ratio = round(train_data.shape[0] / (train_data.shape[0] + test_data.shape[0]) * 100, 2)\n",
    "test_ratio = round(100 - train_ratio, 2)\n",
    "\n",
    "print(f'train data: \\t{train_ratio} % \\n test data: \\t{test_ratio} %')"
   ],
   "metadata": {
    "colab": {
     "base_uri": "https://localhost:8080/"
    },
    "id": "XNuVhupt10Yi",
    "executionInfo": {
     "status": "ok",
     "timestamp": 1731812414746,
     "user_tz": -60,
     "elapsed": 337,
     "user": {
      "displayName": "Sofiia Hrychukh",
      "userId": "08242309766764710449"
     }
    },
    "outputId": "3d236de3-4634-4e60-a0d8-7c1d5af037e0"
   },
   "execution_count": null,
   "outputs": []
  },
  {
   "cell_type": "markdown",
   "source": [
    "The split looks okay, lets see the actual count"
   ],
   "metadata": {
    "id": "nHiB4zh63x1u"
   }
  },
  {
   "cell_type": "code",
   "source": [
    "train_data.shape"
   ],
   "metadata": {
    "colab": {
     "base_uri": "https://localhost:8080/"
    },
    "id": "nHwhsW-o4A_y",
    "executionInfo": {
     "status": "ok",
     "timestamp": 1731807643434,
     "user_tz": -60,
     "elapsed": 435,
     "user": {
      "displayName": "Sofiia Hrychukh",
      "userId": "08242309766764710449"
     }
    },
    "outputId": "6401003d-99ab-4f76-ffb2-a9c517acc36b"
   },
   "execution_count": null,
   "outputs": []
  },
  {
   "cell_type": "code",
   "source": [
    "test_data.shape"
   ],
   "metadata": {
    "colab": {
     "base_uri": "https://localhost:8080/"
    },
    "id": "V3dRZubi15Ks",
    "executionInfo": {
     "status": "ok",
     "timestamp": 1731807644138,
     "user_tz": -60,
     "elapsed": 8,
     "user": {
      "displayName": "Sofiia Hrychukh",
      "userId": "08242309766764710449"
     }
    },
    "outputId": "3bb73e98-3105-44a8-a96e-5a0beb27367f"
   },
   "execution_count": null,
   "outputs": []
  },
  {
   "cell_type": "markdown",
   "source": [
    "Explore a few random examples"
   ],
   "metadata": {
    "id": "eQNCVUBUDAN3"
   }
  },
  {
   "cell_type": "code",
   "source": [
    "def visualise(df, side):\n",
    "  plt.figure(figsize=(15, 5))\n",
    "\n",
    "  num_rows_to_show = 10\n",
    "  row_nums = np.random.randint(df.shape[0], size=num_rows_to_show)\n",
    "\n",
    "  for i, row_num in enumerate(row_nums):\n",
    "      # get the raw 'row_num'th row of data from the df, skip the 0th\n",
    "      # column as its the label column, turn it into a 28 x 28 image from the array,\n",
    "      # color map is reverse grayscale, to provide better visibility\n",
    "      # transpose to ensure right orientation\n",
    "      img = df.values[row_num, 1:].reshape([side, side])\n",
    "      data_class = df.values[row_num, 0]\n",
    "      label = updated_class_mapping[data_class]\n",
    "\n",
    "      plt.subplot(1, num_rows_to_show, i + 1)\n",
    "      plt.imshow(img, cmap='Greys_r')\n",
    "      plt.title(f'Class: {data_class} ({label})')\n",
    "      plt.axis('off')\n",
    "\n",
    "  plt.tight_layout()\n",
    "  plt.show()"
   ],
   "metadata": {
    "id": "XgzNJNwj1_eI",
    "executionInfo": {
     "status": "ok",
     "timestamp": 1731812435347,
     "user_tz": -60,
     "elapsed": 2,
     "user": {
      "displayName": "Sofiia Hrychukh",
      "userId": "08242309766764710449"
     }
    }
   },
   "execution_count": null,
   "outputs": []
  },
  {
   "cell_type": "code",
   "source": [
    "visualise(train_data, 30)"
   ],
   "metadata": {
    "colab": {
     "base_uri": "https://localhost:8080/",
     "height": 148
    },
    "id": "5M33x9TNmpEo",
    "executionInfo": {
     "status": "ok",
     "timestamp": 1731812438450,
     "user_tz": -60,
     "elapsed": 929,
     "user": {
      "displayName": "Sofiia Hrychukh",
      "userId": "08242309766764710449"
     }
    },
    "outputId": "0658bf31-e643-4144-8224-b0722e7ff574"
   },
   "execution_count": null,
   "outputs": []
  },
  {
   "cell_type": "code",
   "source": [
    "visualise(test_data, 30)"
   ],
   "metadata": {
    "colab": {
     "base_uri": "https://localhost:8080/",
     "height": 148
    },
    "id": "OLFt1Twkmo4t",
    "executionInfo": {
     "status": "ok",
     "timestamp": 1731812440949,
     "user_tz": -60,
     "elapsed": 924,
     "user": {
      "displayName": "Sofiia Hrychukh",
      "userId": "08242309766764710449"
     }
    },
    "outputId": "f9bba4a0-e57a-4479-ff38-ff1ece799154"
   },
   "execution_count": null,
   "outputs": []
  },
  {
   "cell_type": "code",
   "source": [
    "num_classes = len(train_data[0].unique())\n",
    "num_classes"
   ],
   "metadata": {
    "colab": {
     "base_uri": "https://localhost:8080/"
    },
    "id": "qNchhChdPmCR",
    "executionInfo": {
     "status": "ok",
     "timestamp": 1731812443734,
     "user_tz": -60,
     "elapsed": 233,
     "user": {
      "displayName": "Sofiia Hrychukh",
      "userId": "08242309766764710449"
     }
    },
    "outputId": "3822e956-6192-4a95-c215-fb31dc8f3cd4"
   },
   "execution_count": null,
   "outputs": []
  },
  {
   "cell_type": "code",
   "source": [
    "model = tf.keras.models.Sequential()\n",
    "\n",
    "model.add(tf.keras.layers.Input(shape=(30,30,1)))\n",
    "\n",
    "model.add(tf.keras.layers.Conv2D(18,(5, 5), strides=2, activation='relu'))\n",
    "model.add(tf.keras.layers.Conv2D(32,(3, 3), strides=2, activation='relu'))\n",
    "\n",
    "model.add(tf.keras.layers.MaxPooling2D(pool_size=(2, 2)))\n",
    "model.add(tf.keras.layers.Conv2D(64,(2, 2), activation='relu'))\n",
    "\n",
    "model.add(tf.keras.layers.Flatten())\n",
    "\n",
    "model.add(tf.keras.layers.Dense(128, activation='relu'))\n",
    "model.add(tf.keras.layers.Dense(num_classes, activation='softmax'))"
   ],
   "metadata": {
    "id": "361uZsSN9g3F",
    "executionInfo": {
     "status": "ok",
     "timestamp": 1731812445067,
     "user_tz": -60,
     "elapsed": 359,
     "user": {
      "displayName": "Sofiia Hrychukh",
      "userId": "08242309766764710449"
     }
    }
   },
   "execution_count": null,
   "outputs": []
  },
  {
   "cell_type": "code",
   "source": [
    "model.compile(optimizer='adam', loss='categorical_crossentropy', metrics=['accuracy'])"
   ],
   "metadata": {
    "id": "GCZsfH6aP9Za",
    "executionInfo": {
     "status": "ok",
     "timestamp": 1731812447324,
     "user_tz": -60,
     "elapsed": 297,
     "user": {
      "displayName": "Sofiia Hrychukh",
      "userId": "08242309766764710449"
     }
    }
   },
   "execution_count": null,
   "outputs": []
  },
  {
   "cell_type": "code",
   "source": [
    "def preprocess_data(df, num_classes, side):\n",
    "    df_x = df.values[:, 1:]\n",
    "    df_y = df.values[:, 0]\n",
    "\n",
    "    df_x = df_x.reshape(-1, side, side, 1)\n",
    "    df_x = df_x.astype('float32')\n",
    "    df_x /= 255.0\n",
    "\n",
    "    df_y = tf.keras.utils.to_categorical(df_y, num_classes=num_classes)\n",
    "\n",
    "    return df_x, df_y"
   ],
   "metadata": {
    "id": "zkjUkUbUupoc",
    "executionInfo": {
     "status": "ok",
     "timestamp": 1731812449138,
     "user_tz": -60,
     "elapsed": 358,
     "user": {
      "displayName": "Sofiia Hrychukh",
      "userId": "08242309766764710449"
     }
    }
   },
   "execution_count": null,
   "outputs": []
  },
  {
   "cell_type": "code",
   "source": [
    "train_data_x, train_data_y = preprocess_data(train_data, num_classes, 30)\n",
    "test_data_x, test_data_y = preprocess_data(test_data, num_classes, 30)"
   ],
   "metadata": {
    "id": "wr5Mts5BRfT9",
    "executionInfo": {
     "status": "ok",
     "timestamp": 1731812452596,
     "user_tz": -60,
     "elapsed": 582,
     "user": {
      "displayName": "Sofiia Hrychukh",
      "userId": "08242309766764710449"
     }
    }
   },
   "execution_count": null,
   "outputs": []
  },
  {
   "cell_type": "code",
   "source": [
    "history = model.fit(train_data_x, train_data_y, epochs=5)\n",
    "\n",
    "loss, accuracy = model.evaluate(test_data_x, test_data_y)\n",
    "print(f\"Test Loss: {loss}\")\n",
    "print(f\"Test Accuracy: {accuracy}\")"
   ],
   "metadata": {
    "colab": {
     "base_uri": "https://localhost:8080/"
    },
    "id": "31wMB_i-QHvr",
    "executionInfo": {
     "status": "ok",
     "timestamp": 1731812615494,
     "user_tz": -60,
     "elapsed": 161198,
     "user": {
      "displayName": "Sofiia Hrychukh",
      "userId": "08242309766764710449"
     }
    },
    "outputId": "8721d11c-e23d-4e7a-dd8a-2e24e7d41be9"
   },
   "execution_count": null,
   "outputs": []
  },
  {
   "cell_type": "code",
   "source": [
    "for filename in os.listdir(\"/test_symbols\"):\n",
    "    if filename.endswith(\"jpg\") or filename.endswith(\"jpeg\") or filename.endswith(\"png\"):\n",
    "        try:\n",
    "            img = cv2.imread(os.path.join(\"/test_symbols\", filename))[:,:,0]\n",
    "            img = np.invert(np.array([img]))\n",
    "            # img = cv2.resize(img, (30, 30))\n",
    "            # img = img.reshape(1, 30, 30, 1)\n",
    "            prediction = model.predict(img)\n",
    "\n",
    "            plt.figure(figsize=(3,3))\n",
    "            plt.imshow(img[0], cmap='Greys_r')\n",
    "            plt.title(f'Class: {np.argmax(prediction)} ({updated_class_mapping[np.argmax(prediction)]})')\n",
    "            print(f\"{filename}: {updated_class_mapping[np.argmax(prediction)]}\")\n",
    "        except:\n",
    "            print(f\"Error processing {filename}\")\n"
   ],
   "metadata": {
    "colab": {
     "base_uri": "https://localhost:8080/",
     "height": 1000
    },
    "id": "UDrozrd-19eQ",
    "executionInfo": {
     "status": "ok",
     "timestamp": 1731813131462,
     "user_tz": -60,
     "elapsed": 1937,
     "user": {
      "displayName": "Sofiia Hrychukh",
      "userId": "08242309766764710449"
     }
    },
    "outputId": "df99a4fb-9bee-40ee-bc64-fe1eb1623c28"
   },
   "execution_count": null,
   "outputs": []
  },
  {
   "cell_type": "code",
   "outputs": [],
   "source": [
    "from train import load_or_train_model, MODEL_SAVE_PATH, get_class_mapping, define_model, get_emnist_data\n",
    "\n",
    "def log(msg):\n",
    "    logging = True\n",
    "    if logging:\n",
    "        print(msg)"
   ],
   "metadata": {
    "collapsed": false
   }
  },
  {
   "cell_type": "code",
   "outputs": [],
   "source": [
    "def load_or_train_model(save_path=MODEL_SAVE_PATH):\n",
    "    if os.path.exists(save_path):\n",
    "        log('Loading trained model...')\n",
    "        model = tf.keras.models.load_model(save_path)\n",
    "\n",
    "    else:\n",
    "        train_x, train_y, test_x, test_y, num_classes = get_emnist_data()\n",
    "        log(f'num classes {num_classes}')\n",
    "        model = define_model(num_classes)\n",
    "\n",
    "        log('Compiling model...')\n",
    "        model.compile(\n",
    "            optimizer=tf.keras.optimizers.Adam(),\n",
    "            loss=tf.keras.losses.CategoricalCrossentropy(),\n",
    "            metrics=['accuracy']\n",
    "        )\n",
    "\n",
    "        log('Training model...')\n",
    "        model.fit(train_x, train_y, epochs=1)\n",
    "\n",
    "        log('Evaluating model...')\n",
    "        loss, accuracy = model.evaluate(test_x, test_y)\n",
    "\n",
    "        log(f\"Test Loss: {loss}\")\n",
    "        log(f\"Test Accuracy: {accuracy}\")\n",
    "\n",
    "        log('Saving model...')\n",
    "        model.save(save_path)\n",
    "        log(f\"Model saved to {save_path}\")\n",
    "\n",
    "    return model"
   ],
   "metadata": {
    "collapsed": false
   }
  },
  {
   "cell_type": "code",
   "outputs": [],
   "source": [],
   "metadata": {
    "collapsed": false
   }
  }
 ]
}
